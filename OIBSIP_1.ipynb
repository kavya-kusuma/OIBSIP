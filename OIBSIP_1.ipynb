{
  "nbformat": 4,
  "nbformat_minor": 0,
  "metadata": {
    "colab": {
      "provenance": []
    },
    "kernelspec": {
      "name": "python3",
      "display_name": "Python 3"
    },
    "language_info": {
      "name": "python"
    }
  },
  "cells": [
    {
      "cell_type": "code",
      "execution_count": 9,
      "metadata": {
        "id": "KV3iAX1NYx2W",
        "colab": {
          "base_uri": "https://localhost:8080/"
        },
        "outputId": "5ea2cc97-4794-4b97-ba46-55f1e3c268e5"
      },
      "outputs": [
        {
          "output_type": "stream",
          "name": "stdout",
          "text": [
            "\u001b[31mERROR: Could not find a version that satisfies the requirement StringIO (from versions: none)\u001b[0m\u001b[31m\n",
            "\u001b[0m\u001b[31mERROR: No matching distribution found for StringIO\u001b[0m\u001b[31m\n",
            "\u001b[0mId               0\n",
            "SepalLengthCm    1\n",
            "SepalWidthCm     1\n",
            "PetalLengthCm    1\n",
            "PetalWidthCm     1\n",
            "Species          1\n",
            "dtype: int64\n",
            "(1, 4)\n",
            "(3, 6)\n",
            "              precision    recall  f1-score   support\n",
            "\n",
            " Iris-setosa       1.00      1.00      1.00         1\n",
            "\n",
            "    accuracy                           1.00         1\n",
            "   macro avg       1.00      1.00      1.00         1\n",
            "weighted avg       1.00      1.00      1.00         1\n",
            "\n"
          ]
        }
      ],
      "source": [
        "!pip install StringIO\n",
        "import pandas as pd\n",
        "from sklearn.model_selection import train_test_split\n",
        "from sklearn.neighbors import KNeighborsClassifier\n",
        "from sklearn.metrics import classification_report\n",
        "import io\n",
        "\n",
        "# Load the dataset\n",
        "data = '''Id,SepalLengthCm,SepalWidthCm,PetalLengthCm,PetalWidthCm,Species\n",
        "1,5.1,3.5,1.4,0.2,Iris-setosa\n",
        "2,4.9,3.0,1.4,0.2,Iris-setosa\n",
        "...\n",
        "150,5.9,3.0,5.1,1.8,Iris-virginica'''\n",
        "\n",
        "iris_df = pd.read_csv(io.StringIO(data))\n",
        "print(iris_df.isnull().sum())\n",
        "iris_df = iris_df.dropna()\n",
        "\n",
        "X = iris_df[['SepalLengthCm', 'SepalWidthCm', 'PetalLengthCm', 'PetalWidthCm']]\n",
        "y = iris_df['Species']\n",
        "\n",
        "X_train, X_test, y_train, y_test = train_test_split(X, y, test_size=0.2, random_state=1)\n",
        "\n",
        "print(X_test.shape)\n",
        "print(iris_df.shape)\n",
        "\n",
        "knn = KNeighborsClassifier(n_neighbors=1)\n",
        "knn.fit(X_train, y_train)\n",
        "\n",
        "y_pred = knn.predict(X_test)\n",
        "\n",
        "print(classification_report(y_test, y_pred))"
      ]
    }
  ]
}